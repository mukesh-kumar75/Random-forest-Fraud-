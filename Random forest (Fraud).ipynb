{
 "cells": [
  {
   "cell_type": "code",
   "execution_count": 1,
   "id": "867bf05a",
   "metadata": {
    "ExecuteTime": {
     "end_time": "2022-10-07T17:50:20.814971Z",
     "start_time": "2022-10-07T17:50:18.286060Z"
    }
   },
   "outputs": [],
   "source": [
    "import pandas as pd\n",
    "import numpy as np\n",
    "from matplotlib import pyplot as plt\n",
    "import seaborn as sns\n",
    "\n",
    "import warnings\n",
    "warnings.filterwarnings('ignore')"
   ]
  },
  {
   "cell_type": "code",
   "execution_count": 2,
   "id": "389861a3",
   "metadata": {
    "ExecuteTime": {
     "end_time": "2022-10-07T17:50:21.576862Z",
     "start_time": "2022-10-07T17:50:21.486870Z"
    }
   },
   "outputs": [
    {
     "data": {
      "text/html": [
       "<div>\n",
       "<style scoped>\n",
       "    .dataframe tbody tr th:only-of-type {\n",
       "        vertical-align: middle;\n",
       "    }\n",
       "\n",
       "    .dataframe tbody tr th {\n",
       "        vertical-align: top;\n",
       "    }\n",
       "\n",
       "    .dataframe thead th {\n",
       "        text-align: right;\n",
       "    }\n",
       "</style>\n",
       "<table border=\"1\" class=\"dataframe\">\n",
       "  <thead>\n",
       "    <tr style=\"text-align: right;\">\n",
       "      <th></th>\n",
       "      <th>Undergrad</th>\n",
       "      <th>Marital.Status</th>\n",
       "      <th>Taxable.Income</th>\n",
       "      <th>City.Population</th>\n",
       "      <th>Work.Experience</th>\n",
       "      <th>Urban</th>\n",
       "    </tr>\n",
       "  </thead>\n",
       "  <tbody>\n",
       "    <tr>\n",
       "      <th>0</th>\n",
       "      <td>NO</td>\n",
       "      <td>Single</td>\n",
       "      <td>68833</td>\n",
       "      <td>50047</td>\n",
       "      <td>10</td>\n",
       "      <td>YES</td>\n",
       "    </tr>\n",
       "    <tr>\n",
       "      <th>1</th>\n",
       "      <td>YES</td>\n",
       "      <td>Divorced</td>\n",
       "      <td>33700</td>\n",
       "      <td>134075</td>\n",
       "      <td>18</td>\n",
       "      <td>YES</td>\n",
       "    </tr>\n",
       "    <tr>\n",
       "      <th>2</th>\n",
       "      <td>NO</td>\n",
       "      <td>Married</td>\n",
       "      <td>36925</td>\n",
       "      <td>160205</td>\n",
       "      <td>30</td>\n",
       "      <td>YES</td>\n",
       "    </tr>\n",
       "    <tr>\n",
       "      <th>3</th>\n",
       "      <td>YES</td>\n",
       "      <td>Single</td>\n",
       "      <td>50190</td>\n",
       "      <td>193264</td>\n",
       "      <td>15</td>\n",
       "      <td>YES</td>\n",
       "    </tr>\n",
       "    <tr>\n",
       "      <th>4</th>\n",
       "      <td>NO</td>\n",
       "      <td>Married</td>\n",
       "      <td>81002</td>\n",
       "      <td>27533</td>\n",
       "      <td>28</td>\n",
       "      <td>NO</td>\n",
       "    </tr>\n",
       "  </tbody>\n",
       "</table>\n",
       "</div>"
      ],
      "text/plain": [
       "  Undergrad Marital.Status  Taxable.Income  City.Population  Work.Experience  \\\n",
       "0        NO         Single           68833            50047               10   \n",
       "1       YES       Divorced           33700           134075               18   \n",
       "2        NO        Married           36925           160205               30   \n",
       "3       YES         Single           50190           193264               15   \n",
       "4        NO        Married           81002            27533               28   \n",
       "\n",
       "  Urban  \n",
       "0   YES  \n",
       "1   YES  \n",
       "2   YES  \n",
       "3   YES  \n",
       "4    NO  "
      ]
     },
     "execution_count": 2,
     "metadata": {},
     "output_type": "execute_result"
    }
   ],
   "source": [
    "df = pd.read_csv(\"Fraud_check.csv\")\n",
    "df.head()"
   ]
  },
  {
   "cell_type": "code",
   "execution_count": 3,
   "id": "b6a4db2f",
   "metadata": {
    "ExecuteTime": {
     "end_time": "2022-10-07T17:50:22.342851Z",
     "start_time": "2022-10-07T17:50:22.320836Z"
    }
   },
   "outputs": [
    {
     "data": {
      "text/plain": [
       "(600, 6)"
      ]
     },
     "execution_count": 3,
     "metadata": {},
     "output_type": "execute_result"
    }
   ],
   "source": [
    "df.shape"
   ]
  },
  {
   "cell_type": "code",
   "execution_count": 4,
   "id": "c0f93a28",
   "metadata": {
    "ExecuteTime": {
     "end_time": "2022-10-07T17:50:23.237764Z",
     "start_time": "2022-10-07T17:50:23.222768Z"
    },
    "scrolled": true
   },
   "outputs": [
    {
     "data": {
      "text/plain": [
       "Undergrad          object\n",
       "Marital.Status     object\n",
       "Taxable.Income      int64\n",
       "City.Population     int64\n",
       "Work.Experience     int64\n",
       "Urban              object\n",
       "dtype: object"
      ]
     },
     "execution_count": 4,
     "metadata": {},
     "output_type": "execute_result"
    }
   ],
   "source": [
    "df.dtypes"
   ]
  },
  {
   "cell_type": "code",
   "execution_count": 5,
   "id": "2a64eb2b",
   "metadata": {
    "ExecuteTime": {
     "end_time": "2022-10-07T17:50:24.276738Z",
     "start_time": "2022-10-07T17:50:23.912760Z"
    }
   },
   "outputs": [
    {
     "data": {
      "image/png": "[encoded data removed]",
      "text/plain": [
       "<Figure size 432x288 with 1 Axes>"
      ]
     },
     "metadata": {
      "needs_background": "light"
     },
     "output_type": "display_data"
    }
   ],
   "source": [
    "sns.scatterplot(x='Work.Experience',y='Taxable.Income',data = df)\n",
    "plt.title('Work.Experience VS Taxable.Income')\n",
    "plt.show()"
   ]
  },
  {
   "cell_type": "code",
   "execution_count": 6,
   "id": "1bc3fda5",
   "metadata": {
    "ExecuteTime": {
     "end_time": "2022-10-07T17:50:25.345640Z",
     "start_time": "2022-10-07T17:50:24.983677Z"
    }
   },
   "outputs": [
    {
     "data": {
      "image/png": "[encoded data removed]",
      "text/plain": [
       "<Figure size 432x288 with 1 Axes>"
      ]
     },
     "metadata": {
      "needs_background": "light"
     },
     "output_type": "display_data"
    }
   ],
   "source": [
    "sns.scatterplot(x='City.Population',y='Taxable.Income',data = df)\n",
    "plt.title('City.Population VS Taxable.Income')\n",
    "plt.show()"
   ]
  },
  {
   "cell_type": "markdown",
   "id": "f1e47e73",
   "metadata": {},
   "source": [
    "## Linearity is failed"
   ]
  },
  {
   "cell_type": "code",
   "execution_count": 7,
   "id": "f53cf1f5",
   "metadata": {
    "ExecuteTime": {
     "end_time": "2022-10-07T17:50:27.209533Z",
     "start_time": "2022-10-07T17:50:26.823550Z"
    }
   },
   "outputs": [
    {
     "data": {
      "image/png": "[encoded data removed]",
      "text/plain": [
       "<Figure size 360x360 with 1 Axes>"
      ]
     },
     "metadata": {
      "needs_background": "light"
     },
     "output_type": "display_data"
    }
   ],
   "source": [
    "sns.displot(data=df,x='Work.Experience',kind='kde')\n",
    "plt.title('Work.Experience distribution')\n",
    "plt.show()"
   ]
  },
  {
   "cell_type": "code",
   "execution_count": 8,
   "id": "eb1273d3",
   "metadata": {
    "ExecuteTime": {
     "end_time": "2022-10-07T17:50:28.345493Z",
     "start_time": "2022-10-07T17:50:27.977517Z"
    }
   },
   "outputs": [
    {
     "data": {
      "image/png": "[encoded data removed]",
      "text/plain": [
       "<Figure size 360x360 with 1 Axes>"
      ]
     },
     "metadata": {
      "needs_background": "light"
     },
     "output_type": "display_data"
    }
   ],
   "source": [
    "sns.displot(data=df,x='City.Population',kind='kde')\n",
    "plt.title('City.Population distribution')\n",
    "plt.show()"
   ]
  },
  {
   "cell_type": "markdown",
   "id": "4a9a6d64",
   "metadata": {},
   "source": [
    "## Normality Test failed"
   ]
  },
  {
   "cell_type": "code",
   "execution_count": 9,
   "id": "fb688d93",
   "metadata": {
    "ExecuteTime": {
     "end_time": "2022-10-07T17:50:30.386373Z",
     "start_time": "2022-10-07T17:50:30.360338Z"
    }
   },
   "outputs": [
    {
     "data": {
      "text/html": [
       "<div>\n",
       "<style scoped>\n",
       "    .dataframe tbody tr th:only-of-type {\n",
       "        vertical-align: middle;\n",
       "    }\n",
       "\n",
       "    .dataframe tbody tr th {\n",
       "        vertical-align: top;\n",
       "    }\n",
       "\n",
       "    .dataframe thead th {\n",
       "        text-align: right;\n",
       "    }\n",
       "</style>\n",
       "<table border=\"1\" class=\"dataframe\">\n",
       "  <thead>\n",
       "    <tr style=\"text-align: right;\">\n",
       "      <th></th>\n",
       "      <th>Taxable.Income</th>\n",
       "      <th>City.Population</th>\n",
       "      <th>Work.Experience</th>\n",
       "    </tr>\n",
       "  </thead>\n",
       "  <tbody>\n",
       "    <tr>\n",
       "      <th>Taxable.Income</th>\n",
       "      <td>1.0</td>\n",
       "      <td>-0.0</td>\n",
       "      <td>-0.0</td>\n",
       "    </tr>\n",
       "    <tr>\n",
       "      <th>City.Population</th>\n",
       "      <td>-0.0</td>\n",
       "      <td>1.0</td>\n",
       "      <td>0.0</td>\n",
       "    </tr>\n",
       "    <tr>\n",
       "      <th>Work.Experience</th>\n",
       "      <td>-0.0</td>\n",
       "      <td>0.0</td>\n",
       "      <td>1.0</td>\n",
       "    </tr>\n",
       "  </tbody>\n",
       "</table>\n",
       "</div>"
      ],
      "text/plain": [
       "                 Taxable.Income  City.Population  Work.Experience\n",
       "Taxable.Income              1.0             -0.0             -0.0\n",
       "City.Population            -0.0              1.0              0.0\n",
       "Work.Experience            -0.0              0.0              1.0"
      ]
     },
     "execution_count": 9,
     "metadata": {},
     "output_type": "execute_result"
    }
   ],
   "source": [
    "df_corr = df.corr().round()\n",
    "df_corr"
   ]
  },
  {
   "cell_type": "code",
   "execution_count": 10,
   "id": "5f433a78",
   "metadata": {
    "ExecuteTime": {
     "end_time": "2022-10-07T17:50:31.627267Z",
     "start_time": "2022-10-07T17:50:31.307285Z"
    }
   },
   "outputs": [
    {
     "data": {
      "image/png": "[encoded data removed]",
      "text/plain": [
       "<Figure size 432x288 with 2 Axes>"
      ]
     },
     "metadata": {
      "needs_background": "light"
     },
     "output_type": "display_data"
    }
   ],
   "source": [
    "sns.heatmap(df_corr,annot=True)\n",
    "plt.show()"
   ]
  },
  {
   "cell_type": "markdown",
   "id": "ca3a3fb8",
   "metadata": {},
   "source": [
    "## Multicollinerty test is failed"
   ]
  },
  {
   "cell_type": "code",
   "execution_count": 11,
   "id": "c9f0a86c",
   "metadata": {
    "ExecuteTime": {
     "end_time": "2022-10-07T17:50:33.246167Z",
     "start_time": "2022-10-07T17:50:33.237166Z"
    }
   },
   "outputs": [],
   "source": [
    "df = df.drop('Urban',axis = 1)"
   ]
  },
  {
   "cell_type": "code",
   "execution_count": 12,
   "id": "d9b4ee6f",
   "metadata": {
    "ExecuteTime": {
     "end_time": "2022-10-07T17:50:34.048123Z",
     "start_time": "2022-10-07T17:50:34.042155Z"
    }
   },
   "outputs": [],
   "source": [
    "df = df.drop('Undergrad',axis = 1)"
   ]
  },
  {
   "cell_type": "code",
   "execution_count": 13,
   "id": "9cfbf328",
   "metadata": {
    "ExecuteTime": {
     "end_time": "2022-10-07T17:50:35.020061Z",
     "start_time": "2022-10-07T17:50:34.996061Z"
    }
   },
   "outputs": [
    {
     "data": {
      "text/html": [
       "<div>\n",
       "<style scoped>\n",
       "    .dataframe tbody tr th:only-of-type {\n",
       "        vertical-align: middle;\n",
       "    }\n",
       "\n",
       "    .dataframe tbody tr th {\n",
       "        vertical-align: top;\n",
       "    }\n",
       "\n",
       "    .dataframe thead th {\n",
       "        text-align: right;\n",
       "    }\n",
       "</style>\n",
       "<table border=\"1\" class=\"dataframe\">\n",
       "  <thead>\n",
       "    <tr style=\"text-align: right;\">\n",
       "      <th></th>\n",
       "      <th>Taxable.Income</th>\n",
       "      <th>City.Population</th>\n",
       "      <th>Work.Experience</th>\n",
       "    </tr>\n",
       "  </thead>\n",
       "  <tbody>\n",
       "    <tr>\n",
       "      <th>0</th>\n",
       "      <td>68833</td>\n",
       "      <td>50047</td>\n",
       "      <td>10</td>\n",
       "    </tr>\n",
       "    <tr>\n",
       "      <th>1</th>\n",
       "      <td>33700</td>\n",
       "      <td>134075</td>\n",
       "      <td>18</td>\n",
       "    </tr>\n",
       "    <tr>\n",
       "      <th>2</th>\n",
       "      <td>36925</td>\n",
       "      <td>160205</td>\n",
       "      <td>30</td>\n",
       "    </tr>\n",
       "    <tr>\n",
       "      <th>3</th>\n",
       "      <td>50190</td>\n",
       "      <td>193264</td>\n",
       "      <td>15</td>\n",
       "    </tr>\n",
       "    <tr>\n",
       "      <th>4</th>\n",
       "      <td>81002</td>\n",
       "      <td>27533</td>\n",
       "      <td>28</td>\n",
       "    </tr>\n",
       "    <tr>\n",
       "      <th>...</th>\n",
       "      <td>...</td>\n",
       "      <td>...</td>\n",
       "      <td>...</td>\n",
       "    </tr>\n",
       "    <tr>\n",
       "      <th>595</th>\n",
       "      <td>76340</td>\n",
       "      <td>39492</td>\n",
       "      <td>7</td>\n",
       "    </tr>\n",
       "    <tr>\n",
       "      <th>596</th>\n",
       "      <td>69967</td>\n",
       "      <td>55369</td>\n",
       "      <td>2</td>\n",
       "    </tr>\n",
       "    <tr>\n",
       "      <th>597</th>\n",
       "      <td>47334</td>\n",
       "      <td>154058</td>\n",
       "      <td>0</td>\n",
       "    </tr>\n",
       "    <tr>\n",
       "      <th>598</th>\n",
       "      <td>98592</td>\n",
       "      <td>180083</td>\n",
       "      <td>17</td>\n",
       "    </tr>\n",
       "    <tr>\n",
       "      <th>599</th>\n",
       "      <td>96519</td>\n",
       "      <td>158137</td>\n",
       "      <td>16</td>\n",
       "    </tr>\n",
       "  </tbody>\n",
       "</table>\n",
       "<p>600 rows × 3 columns</p>\n",
       "</div>"
      ],
      "text/plain": [
       "     Taxable.Income  City.Population  Work.Experience\n",
       "0             68833            50047               10\n",
       "1             33700           134075               18\n",
       "2             36925           160205               30\n",
       "3             50190           193264               15\n",
       "4             81002            27533               28\n",
       "..              ...              ...              ...\n",
       "595           76340            39492                7\n",
       "596           69967            55369                2\n",
       "597           47334           154058                0\n",
       "598           98592           180083               17\n",
       "599           96519           158137               16\n",
       "\n",
       "[600 rows x 3 columns]"
      ]
     },
     "execution_count": 13,
     "metadata": {},
     "output_type": "execute_result"
    }
   ],
   "source": [
    "df = df.drop('Marital.Status',axis = 1)\n",
    "df"
   ]
  },
  {
   "cell_type": "code",
   "execution_count": 14,
   "id": "69a860ab",
   "metadata": {
    "ExecuteTime": {
     "end_time": "2022-10-07T17:50:48.948227Z",
     "start_time": "2022-10-07T17:50:48.936262Z"
    }
   },
   "outputs": [],
   "source": [
    "X = df.drop('Taxable.Income',axis = 1)\n",
    "y = df[['Taxable.Income']]"
   ]
  },
  {
   "cell_type": "code",
   "execution_count": 15,
   "id": "206389ed",
   "metadata": {
    "ExecuteTime": {
     "end_time": "2022-10-07T17:50:50.482135Z",
     "start_time": "2022-10-07T17:50:50.462136Z"
    }
   },
   "outputs": [
    {
     "data": {
      "text/plain": [
       "((600, 2), (600, 1))"
      ]
     },
     "execution_count": 15,
     "metadata": {},
     "output_type": "execute_result"
    }
   ],
   "source": [
    "X.shape,y.shape"
   ]
  },
  {
   "cell_type": "code",
   "execution_count": 16,
   "id": "21db30e2",
   "metadata": {
    "ExecuteTime": {
     "end_time": "2022-10-07T17:50:51.887114Z",
     "start_time": "2022-10-07T17:50:51.262089Z"
    }
   },
   "outputs": [],
   "source": [
    "from sklearn.model_selection import train_test_split\n",
    "X_train,X_test,y_train,y_test = train_test_split(X,y,test_size=0.20)"
   ]
  },
  {
   "cell_type": "code",
   "execution_count": 17,
   "id": "b8b2e096",
   "metadata": {
    "ExecuteTime": {
     "end_time": "2022-10-07T17:50:52.028045Z",
     "start_time": "2022-10-07T17:50:52.017045Z"
    }
   },
   "outputs": [
    {
     "data": {
      "text/plain": [
       "((480, 2), (120, 2))"
      ]
     },
     "execution_count": 17,
     "metadata": {},
     "output_type": "execute_result"
    }
   ],
   "source": [
    "X_train.shape , X_test.shape"
   ]
  },
  {
   "cell_type": "code",
   "execution_count": 18,
   "id": "5b54222a",
   "metadata": {
    "ExecuteTime": {
     "end_time": "2022-10-07T17:50:52.901991Z",
     "start_time": "2022-10-07T17:50:52.891991Z"
    }
   },
   "outputs": [
    {
     "data": {
      "text/plain": [
       "((480, 1), (120, 1))"
      ]
     },
     "execution_count": 18,
     "metadata": {},
     "output_type": "execute_result"
    }
   ],
   "source": [
    "y_train.shape , y_test.shape"
   ]
  },
  {
   "cell_type": "code",
   "execution_count": 19,
   "id": "d3bf4037",
   "metadata": {
    "ExecuteTime": {
     "end_time": "2022-10-07T17:53:50.618369Z",
     "start_time": "2022-10-07T17:53:49.026464Z"
    }
   },
   "outputs": [
    {
     "data": {
      "text/html": [
       "<style>#sk-container-id-1 {color: black;background-color: white;}#sk-container-id-1 pre{padding: 0;}#sk-container-id-1 div.sk-toggleable {background-color: white;}#sk-container-id-1 label.sk-toggleable__label {cursor: pointer;display: block;width: 100%;margin-bottom: 0;padding: 0.3em;box-sizing: border-box;text-align: center;}#sk-container-id-1 label.sk-toggleable__label-arrow:before {content: \"▸\";float: left;margin-right: 0.25em;color: #696969;}#sk-container-id-1 label.sk-toggleable__label-arrow:hover:before {color: black;}#sk-container-id-1 div.sk-estimator:hover label.sk-toggleable__label-arrow:before {color: black;}#sk-container-id-1 div.sk-toggleable__content {max-height: 0;max-width: 0;overflow: hidden;text-align: left;background-color: #f0f8ff;}#sk-container-id-1 div.sk-toggleable__content pre {margin: 0.2em;color: black;border-radius: 0.25em;background-color: #f0f8ff;}#sk-container-id-1 input.sk-toggleable__control:checked~div.sk-toggleable__content {max-height: 200px;max-width: 100%;overflow: auto;}#sk-container-id-1 input.sk-toggleable__control:checked~label.sk-toggleable__label-arrow:before {content: \"▾\";}#sk-container-id-1 div.sk-estimator input.sk-toggleable__control:checked~label.sk-toggleable__label {background-color: #d4ebff;}#sk-container-id-1 div.sk-label input.sk-toggleable__control:checked~label.sk-toggleable__label {background-color: #d4ebff;}#sk-container-id-1 input.sk-hidden--visually {border: 0;clip: rect(1px 1px 1px 1px);clip: rect(1px, 1px, 1px, 1px);height: 1px;margin: -1px;overflow: hidden;padding: 0;position: absolute;width: 1px;}#sk-container-id-1 div.sk-estimator {font-family: monospace;background-color: #f0f8ff;border: 1px dotted black;border-radius: 0.25em;box-sizing: border-box;margin-bottom: 0.5em;}#sk-container-id-1 div.sk-estimator:hover {background-color: #d4ebff;}#sk-container-id-1 div.sk-parallel-item::after {content: \"\";width: 100%;border-bottom: 1px solid gray;flex-grow: 1;}#sk-container-id-1 div.sk-label:hover label.sk-toggleable__label {background-color: #d4ebff;}#sk-container-id-1 div.sk-serial::before {content: \"\";position: absolute;border-left: 1px solid gray;box-sizing: border-box;top: 0;bottom: 0;left: 50%;z-index: 0;}#sk-container-id-1 div.sk-serial {display: flex;flex-direction: column;align-items: center;background-color: white;padding-right: 0.2em;padding-left: 0.2em;position: relative;}#sk-container-id-1 div.sk-item {position: relative;z-index: 1;}#sk-container-id-1 div.sk-parallel {display: flex;align-items: stretch;justify-content: center;background-color: white;position: relative;}#sk-container-id-1 div.sk-item::before, #sk-container-id-1 div.sk-parallel-item::before {content: \"\";position: absolute;border-left: 1px solid gray;box-sizing: border-box;top: 0;bottom: 0;left: 50%;z-index: -1;}#sk-container-id-1 div.sk-parallel-item {display: flex;flex-direction: column;z-index: 1;position: relative;background-color: white;}#sk-container-id-1 div.sk-parallel-item:first-child::after {align-self: flex-end;width: 50%;}#sk-container-id-1 div.sk-parallel-item:last-child::after {align-self: flex-start;width: 50%;}#sk-container-id-1 div.sk-parallel-item:only-child::after {width: 0;}#sk-container-id-1 div.sk-dashed-wrapped {border: 1px dashed gray;margin: 0 0.4em 0.5em 0.4em;box-sizing: border-box;padding-bottom: 0.4em;background-color: white;}#sk-container-id-1 div.sk-label label {font-family: monospace;font-weight: bold;display: inline-block;line-height: 1.2em;}#sk-container-id-1 div.sk-label-container {text-align: center;}#sk-container-id-1 div.sk-container {/* jupyter's `normalize.less` sets `[hidden] { display: none; }` but bootstrap.min.css set `[hidden] { display: none !important; }` so we also need the `!important` here to be able to override the default hidden behavior on the sphinx rendered scikit-learn.org. See: https://github.com/scikit-learn/scikit-learn/issues/21755 */display: inline-block !important;position: relative;}#sk-container-id-1 div.sk-text-repr-fallback {display: none;}</style><div id=\"sk-container-id-1\" class=\"sk-top-container\"><div class=\"sk-text-repr-fallback\"><pre>RandomForestClassifier()</pre><b>In a Jupyter environment, please rerun this cell to show the HTML representation or trust the notebook. <br />On GitHub, the HTML representation is unable to render, please try loading this page with nbviewer.org.</b></div><div class=\"sk-container\" hidden><div class=\"sk-item\"><div class=\"sk-estimator sk-toggleable\"><input class=\"sk-toggleable__control sk-hidden--visually\" id=\"sk-estimator-id-1\" type=\"checkbox\" checked><label for=\"sk-estimator-id-1\" class=\"sk-toggleable__label sk-toggleable__label-arrow\">RandomForestClassifier</label><div class=\"sk-toggleable__content\"><pre>RandomForestClassifier()</pre></div></div></div></div></div>"
      ],
      "text/plain": [
       "RandomForestClassifier()"
      ]
     },
     "execution_count": 19,
     "metadata": {},
     "output_type": "execute_result"
    }
   ],
   "source": [
    "from sklearn.ensemble import RandomForestClassifier\n",
    "rf = RandomForestClassifier()\n",
    "rf.fit(X_train,y_train)"
   ]
  },
  {
   "cell_type": "code",
   "execution_count": 20,
   "id": "07ab1837",
   "metadata": {
    "ExecuteTime": {
     "end_time": "2022-10-07T17:54:06.309447Z",
     "start_time": "2022-10-07T17:54:05.482482Z"
    }
   },
   "outputs": [
    {
     "data": {
      "text/plain": [
       "1.0"
      ]
     },
     "execution_count": 20,
     "metadata": {},
     "output_type": "execute_result"
    }
   ],
   "source": [
    "rf.score(X_train,y_train)"
   ]
  },
  {
   "cell_type": "code",
   "execution_count": 21,
   "id": "04cba8c2",
   "metadata": {
    "ExecuteTime": {
     "end_time": "2022-10-07T17:55:26.094662Z",
     "start_time": "2022-10-07T17:55:25.190718Z"
    }
   },
   "outputs": [],
   "source": [
    "y_pred_train = rf.predict(X_train)"
   ]
  },
  {
   "cell_type": "code",
   "execution_count": 22,
   "id": "18810f75",
   "metadata": {
    "ExecuteTime": {
     "end_time": "2022-10-07T17:56:49.133703Z",
     "start_time": "2022-10-07T17:56:49.116702Z"
    }
   },
   "outputs": [],
   "source": [
    "from sklearn.metrics import accuracy_score,classification_report,confusion_matrix"
   ]
  },
  {
   "cell_type": "code",
   "execution_count": 23,
   "id": "29635e1e",
   "metadata": {
    "ExecuteTime": {
     "end_time": "2022-10-07T17:57:33.961023Z",
     "start_time": "2022-10-07T17:57:33.858061Z"
    }
   },
   "outputs": [
    {
     "name": "stdout",
     "output_type": "stream",
     "text": [
      "              precision    recall  f1-score   support\n",
      "\n",
      "       10003       1.00      1.00      1.00         1\n",
      "       10150       1.00      1.00      1.00         1\n",
      "       10163       1.00      1.00      1.00         1\n",
      "       10329       1.00      1.00      1.00         1\n",
      "       10348       1.00      1.00      1.00         1\n",
      "       10379       1.00      1.00      1.00         1\n",
      "       10455       1.00      1.00      1.00         1\n",
      "       10735       1.00      1.00      1.00         1\n",
      "       10870       1.00      1.00      1.00         1\n",
      "       10933       1.00      1.00      1.00         1\n",
      "       10987       1.00      1.00      1.00         1\n",
      "       11784       1.00      1.00      1.00         1\n",
      "       11794       1.00      1.00      1.00         1\n",
      "       11804       1.00      1.00      1.00         1\n",
      "       11865       1.00      1.00      1.00         1\n",
      "       12011       1.00      1.00      1.00         1\n",
      "       12453       1.00      1.00      1.00         1\n",
      "       12470       1.00      1.00      1.00         1\n",
      "       12514       1.00      1.00      1.00         1\n",
      "       12682       1.00      1.00      1.00         1\n",
      "       12810       1.00      1.00      1.00         1\n",
      "       13068       1.00      1.00      1.00         1\n",
      "       14300       1.00      1.00      1.00         1\n",
      "       14310       1.00      1.00      1.00         1\n",
      "       14326       1.00      1.00      1.00         1\n",
      "       14422       1.00      1.00      1.00         1\n",
      "       14912       1.00      1.00      1.00         1\n",
      "       15491       1.00      1.00      1.00         1\n",
      "       15673       1.00      1.00      1.00         1\n",
      "       15853       1.00      1.00      1.00         1\n",
      "       16264       1.00      1.00      1.00         1\n",
      "       16320       1.00      1.00      1.00         1\n",
      "       16690       1.00      1.00      1.00         1\n",
      "       16992       1.00      1.00      1.00         1\n",
      "       17183       1.00      1.00      1.00         1\n",
      "       17783       1.00      1.00      1.00         1\n",
      "       17957       1.00      1.00      1.00         1\n",
      "       17962       1.00      1.00      1.00         1\n",
      "       18032       1.00      1.00      1.00         1\n",
      "       18192       1.00      1.00      1.00         1\n",
      "       18199       1.00      1.00      1.00         1\n",
      "       18572       1.00      1.00      1.00         1\n",
      "       18888       1.00      1.00      1.00         1\n",
      "       19060       1.00      1.00      1.00         1\n",
      "       19169       1.00      1.00      1.00         1\n",
      "       19184       1.00      1.00      1.00         1\n",
      "       19272       1.00      1.00      1.00         1\n",
      "       19649       1.00      1.00      1.00         1\n",
      "       19925       1.00      1.00      1.00         1\n",
      "       20109       1.00      1.00      1.00         1\n",
      "       20309       1.00      1.00      1.00         1\n",
      "       20391       1.00      1.00      1.00         1\n",
      "       20604       1.00      1.00      1.00         1\n",
      "       20719       1.00      1.00      1.00         1\n",
      "       21016       1.00      1.00      1.00         1\n",
      "       21337       1.00      1.00      1.00         1\n",
      "       21696       1.00      1.00      1.00         1\n",
      "       21945       1.00      1.00      1.00         1\n",
      "       21966       1.00      1.00      1.00         1\n",
      "       22054       1.00      1.00      1.00         1\n",
      "       22159       1.00      1.00      1.00         1\n",
      "       22187       1.00      1.00      1.00         1\n",
      "       22258       1.00      1.00      1.00         1\n",
      "       22773       1.00      1.00      1.00         1\n",
      "       23075       1.00      1.00      1.00         1\n",
      "       23480       1.00      1.00      1.00         1\n",
      "       23855       1.00      1.00      1.00         1\n",
      "       23884       1.00      1.00      1.00         1\n",
      "       24215       1.00      1.00      1.00         1\n",
      "       24347       1.00      1.00      1.00         1\n",
      "       24541       1.00      1.00      1.00         1\n",
      "       24987       1.00      1.00      1.00         1\n",
      "       25062       1.00      1.00      1.00         1\n",
      "       25222       1.00      1.00      1.00         1\n",
      "       25766       1.00      1.00      1.00         1\n",
      "       26094       1.00      1.00      1.00         1\n",
      "       26101       1.00      1.00      1.00         1\n",
      "       26128       1.00      1.00      1.00         1\n",
      "       26372       1.00      1.00      1.00         1\n",
      "       26494       1.00      1.00      1.00         1\n",
      "       26679       1.00      1.00      1.00         1\n",
      "       26741       1.00      1.00      1.00         1\n",
      "       26783       1.00      1.00      1.00         1\n",
      "       26793       1.00      1.00      1.00         1\n",
      "       26972       1.00      1.00      1.00         1\n",
      "       27081       1.00      1.00      1.00         1\n",
      "       27143       1.00      1.00      1.00         1\n",
      "       27394       1.00      1.00      1.00         1\n",
      "       27520       1.00      1.00      1.00         1\n",
      "       27684       1.00      1.00      1.00         1\n",
      "       27698       1.00      1.00      1.00         1\n",
      "       27877       1.00      1.00      1.00         1\n",
      "       28449       1.00      1.00      1.00         1\n",
      "       28496       1.00      1.00      1.00         1\n",
      "       28707       1.00      1.00      1.00         1\n",
      "       28764       1.00      1.00      1.00         1\n",
      "       28904       1.00      1.00      1.00         1\n",
      "       29046       1.00      1.00      1.00         1\n",
      "       29222       1.00      1.00      1.00         1\n",
      "       29236       1.00      1.00      1.00         1\n",
      "       29543       1.00      1.00      1.00         1\n",
      "       29607       1.00      1.00      1.00         1\n",
      "       29732       1.00      1.00      1.00         1\n",
      "       29916       1.00      1.00      1.00         1\n",
      "       29944       1.00      1.00      1.00         1\n",
      "       30167       1.00      1.00      1.00         1\n",
      "       30468       1.00      1.00      1.00         1\n",
      "       30495       1.00      1.00      1.00         1\n",
      "       30714       1.00      1.00      1.00         1\n",
      "       31085       1.00      1.00      1.00         1\n",
      "       31088       1.00      1.00      1.00         1\n",
      "       31409       1.00      1.00      1.00         1\n",
      "       31417       1.00      1.00      1.00         1\n",
      "       31458       1.00      1.00      1.00         1\n",
      "       31521       1.00      1.00      1.00         1\n",
      "       31532       1.00      1.00      1.00         1\n",
      "       31591       1.00      1.00      1.00         1\n",
      "       31629       1.00      1.00      1.00         1\n",
      "       31633       1.00      1.00      1.00         1\n",
      "       31645       1.00      1.00      1.00         1\n",
      "       31699       1.00      1.00      1.00         1\n",
      "       32236       1.00      1.00      1.00         1\n",
      "       32356       1.00      1.00      1.00         1\n",
      "       32434       1.00      1.00      1.00         1\n",
      "       32467       1.00      1.00      1.00         1\n",
      "       32483       1.00      1.00      1.00         1\n",
      "       32603       1.00      1.00      1.00         1\n",
      "       32786       1.00      1.00      1.00         1\n",
      "       32900       1.00      1.00      1.00         1\n",
      "       32948       1.00      1.00      1.00         1\n",
      "       33092       1.00      1.00      1.00         1\n",
      "       33116       1.00      1.00      1.00         1\n",
      "       33138       1.00      1.00      1.00         1\n",
      "       33215       1.00      1.00      1.00         1\n",
      "       33301       1.00      1.00      1.00         1\n",
      "       33329       1.00      1.00      1.00         1\n",
      "       33356       1.00      1.00      1.00         1\n",
      "       33579       1.00      1.00      1.00         1\n",
      "       33614       1.00      1.00      1.00         1\n",
      "       33700       1.00      1.00      1.00         1\n",
      "       33748       1.00      1.00      1.00         1\n",
      "       33810       1.00      1.00      1.00         1\n",
      "       33962       1.00      1.00      1.00         1\n",
      "       34007       1.00      1.00      1.00         1\n",
      "       34475       1.00      1.00      1.00         1\n",
      "       34598       1.00      1.00      1.00         1\n",
      "       34655       1.00      1.00      1.00         1\n",
      "       34703       1.00      1.00      1.00         1\n",
      "       34833       1.00      1.00      1.00         1\n",
      "       35072       1.00      1.00      1.00         1\n",
      "       35200       1.00      1.00      1.00         1\n",
      "       35832       1.00      1.00      1.00         1\n",
      "       35886       1.00      1.00      1.00         1\n",
      "       35922       1.00      1.00      1.00         1\n",
      "       36156       1.00      1.00      1.00         1\n",
      "       36317       1.00      1.00      1.00         1\n",
      "       36457       1.00      1.00      1.00         1\n",
      "       36890       1.00      1.00      1.00         1\n",
      "       36925       1.00      1.00      1.00         1\n",
      "       37481       1.00      1.00      1.00         1\n",
      "       37580       1.00      1.00      1.00         1\n",
      "       37857       1.00      1.00      1.00         1\n",
      "       38239       1.00      1.00      1.00         1\n",
      "       38374       1.00      1.00      1.00         1\n",
      "       38586       1.00      1.00      1.00         1\n",
      "       38626       1.00      1.00      1.00         1\n",
      "       38704       1.00      1.00      1.00         1\n",
      "       39052       1.00      1.00      1.00         1\n",
      "       39114       1.00      1.00      1.00         1\n",
      "       39144       1.00      1.00      1.00         1\n",
      "       39277       1.00      1.00      1.00         1\n",
      "       39343       1.00      1.00      1.00         1\n",
      "       39444       1.00      1.00      1.00         1\n",
      "       39476       1.00      1.00      1.00         1\n",
      "       39818       1.00      1.00      1.00         1\n",
      "       40220       1.00      1.00      1.00         1\n",
      "       40427       1.00      1.00      1.00         1\n",
      "       40674       1.00      1.00      1.00         1\n",
      "       41087       1.00      1.00      1.00         1\n",
      "       41184       1.00      1.00      1.00         1\n",
      "       41382       1.00      1.00      1.00         1\n",
      "       41395       1.00      1.00      1.00         1\n",
      "       42074       1.00      1.00      1.00         1\n",
      "       42254       1.00      1.00      1.00         1\n",
      "       42483       1.00      1.00      1.00         1\n",
      "       42488       1.00      1.00      1.00         1\n",
      "       42507       1.00      1.00      1.00         1\n",
      "       42679       1.00      1.00      1.00         1\n",
      "       42769       1.00      1.00      1.00         1\n",
      "       42784       1.00      1.00      1.00         1\n",
      "       43018       1.00      1.00      1.00         1\n",
      "       43051       1.00      1.00      1.00         1\n",
      "       43128       1.00      1.00      1.00         1\n",
      "       43980       1.00      1.00      1.00         1\n",
      "       44411       1.00      1.00      1.00         1\n",
      "       44795       1.00      1.00      1.00         1\n",
      "       44809       1.00      1.00      1.00         1\n",
      "       44947       1.00      1.00      1.00         1\n",
      "       46002       1.00      1.00      1.00         1\n",
      "       46070       1.00      1.00      1.00         1\n",
      "       46470       1.00      1.00      1.00         1\n",
      "       46629       1.00      1.00      1.00         1\n",
      "       46798       1.00      1.00      1.00         1\n",
      "       46955       1.00      1.00      1.00         1\n",
      "       47565       1.00      1.00      1.00         1\n",
      "       48081       1.00      1.00      1.00         1\n",
      "       48169       1.00      1.00      1.00         1\n",
      "       48192       1.00      1.00      1.00         1\n",
      "       48313       1.00      1.00      1.00         1\n",
      "       48640       1.00      1.00      1.00         1\n",
      "       48779       1.00      1.00      1.00         1\n",
      "       48825       1.00      1.00      1.00         1\n",
      "       48940       1.00      1.00      1.00         1\n",
      "       49436       1.00      1.00      1.00         1\n",
      "       49520       1.00      1.00      1.00         1\n",
      "       49771       1.00      1.00      1.00         1\n",
      "       49995       1.00      1.00      1.00         1\n",
      "       50119       1.00      1.00      1.00         1\n",
      "       50190       1.00      1.00      1.00         1\n",
      "       50348       1.00      1.00      1.00         1\n",
      "       50403       1.00      1.00      1.00         1\n",
      "       50777       1.00      1.00      1.00         1\n",
      "       51028       1.00      1.00      1.00         1\n",
      "       51363       1.00      1.00      1.00         1\n",
      "       51802       1.00      1.00      1.00         1\n",
      "       51913       1.00      1.00      1.00         1\n",
      "       51914       1.00      1.00      1.00         1\n",
      "       51927       1.00      1.00      1.00         1\n",
      "       52022       1.00      1.00      1.00         1\n",
      "       52111       1.00      1.00      1.00         1\n",
      "       52495       1.00      1.00      1.00         1\n",
      "       52663       1.00      1.00      1.00         1\n",
      "       52862       1.00      1.00      1.00         1\n",
      "       52891       1.00      1.00      1.00         1\n",
      "       52912       1.00      1.00      1.00         1\n",
      "       53981       1.00      1.00      1.00         1\n",
      "       54126       1.00      1.00      1.00         1\n",
      "       54345       1.00      1.00      1.00         1\n",
      "       54502       1.00      1.00      1.00         1\n",
      "       54638       1.00      1.00      1.00         1\n",
      "       54747       1.00      1.00      1.00         1\n",
      "       55308       1.00      1.00      1.00         1\n",
      "       55981       1.00      1.00      1.00         1\n",
      "       56166       1.00      1.00      1.00         1\n",
      "       56438       1.00      1.00      1.00         1\n",
      "       56501       1.00      1.00      1.00         1\n",
      "       56536       1.00      1.00      1.00         1\n",
      "       56555       1.00      1.00      1.00         1\n",
      "       56628       1.00      1.00      1.00         1\n",
      "       56647       1.00      1.00      1.00         1\n",
      "       56974       1.00      1.00      1.00         1\n",
      "       57365       1.00      1.00      1.00         1\n",
      "       57402       1.00      1.00      1.00         1\n",
      "       57445       1.00      1.00      1.00         1\n",
      "       58199       1.00      1.00      1.00         1\n",
      "       58312       1.00      1.00      1.00         1\n",
      "       58403       1.00      1.00      1.00         1\n",
      "       58451       1.00      1.00      1.00         1\n",
      "       58496       1.00      1.00      1.00         1\n",
      "       58635       1.00      1.00      1.00         1\n",
      "       58751       1.00      1.00      1.00         1\n",
      "       59227       1.00      1.00      1.00         1\n",
      "       59351       1.00      1.00      1.00         1\n",
      "       59440       1.00      1.00      1.00         1\n",
      "       59615       1.00      1.00      1.00         1\n",
      "       59689       1.00      1.00      1.00         1\n",
      "       59860       1.00      1.00      1.00         1\n",
      "       60789       1.00      1.00      1.00         1\n",
      "       60822       1.00      1.00      1.00         1\n",
      "       60915       1.00      1.00      1.00         1\n",
      "       61105       1.00      1.00      1.00         1\n",
      "       61124       1.00      1.00      1.00         1\n",
      "       61445       1.00      1.00      1.00         1\n",
      "       61486       1.00      1.00      1.00         1\n",
      "       61830       1.00      1.00      1.00         1\n",
      "       61906       1.00      1.00      1.00         1\n",
      "       62067       1.00      1.00      1.00         1\n",
      "       62141       1.00      1.00      1.00         1\n",
      "       62209       1.00      1.00      1.00         1\n",
      "       62365       1.00      1.00      1.00         1\n",
      "       62426       1.00      1.00      1.00         1\n",
      "       62774       1.00      1.00      1.00         1\n",
      "       62800       1.00      1.00      1.00         1\n",
      "       62873       1.00      1.00      1.00         1\n",
      "       62998       1.00      1.00      1.00         1\n",
      "       63057       1.00      1.00      1.00         1\n",
      "       63543       1.00      1.00      1.00         1\n",
      "       63710       1.00      1.00      1.00         1\n",
      "       63912       1.00      1.00      1.00         1\n",
      "       64007       1.00      1.00      1.00         1\n",
      "       64320       1.00      1.00      1.00         1\n",
      "       64437       1.00      1.00      1.00         1\n",
      "       64667       1.00      1.00      1.00         1\n",
      "       65065       1.00      1.00      1.00         1\n",
      "       65170       1.00      1.00      1.00         1\n",
      "       65190       1.00      1.00      1.00         1\n",
      "       65203       1.00      1.00      1.00         1\n",
      "       66330       1.00      1.00      1.00         1\n",
      "       66564       1.00      1.00      1.00         1\n",
      "       66865       1.00      1.00      1.00         1\n",
      "       66905       1.00      1.00      1.00         1\n",
      "       67033       1.00      1.00      1.00         1\n",
      "       67083       1.00      1.00      1.00         1\n",
      "       67628       1.00      1.00      1.00         1\n",
      "       67936       1.00      1.00      1.00         1\n",
      "       68152       1.00      1.00      1.00         1\n",
      "       68268       1.00      1.00      1.00         1\n",
      "       68269       1.00      1.00      1.00         1\n",
      "       68404       1.00      1.00      1.00         1\n",
      "       68513       1.00      1.00      1.00         1\n",
      "       68533       1.00      1.00      1.00         1\n",
      "       68696       1.00      1.00      1.00         1\n",
      "       68833       1.00      1.00      1.00         1\n",
      "       68911       1.00      1.00      1.00         1\n",
      "       69018       1.00      1.00      1.00         1\n",
      "       69098       1.00      1.00      1.00         1\n",
      "       69224       1.00      1.00      1.00         1\n",
      "       69540       1.00      1.00      1.00         1\n",
      "       69869       1.00      1.00      1.00         1\n",
      "       70157       1.00      1.00      1.00         1\n",
      "       70298       1.00      1.00      1.00         1\n",
      "       70339       1.00      1.00      1.00         1\n",
      "       70365       1.00      1.00      1.00         1\n",
      "       70572       1.00      1.00      1.00         1\n",
      "       70645       1.00      1.00      1.00         1\n",
      "       70712       1.00      1.00      1.00         1\n",
      "       70812       1.00      1.00      1.00         1\n",
      "       70819       1.00      1.00      1.00         1\n",
      "       70949       1.00      1.00      1.00         1\n",
      "       71164       1.00      1.00      1.00         1\n",
      "       71238       1.00      1.00      1.00         1\n",
      "       71297       1.00      1.00      1.00         1\n",
      "       71376       1.00      1.00      1.00         1\n",
      "       71572       1.00      1.00      1.00         1\n",
      "       72026       1.00      1.00      1.00         1\n",
      "       72115       1.00      1.00      1.00         1\n",
      "       72268       1.00      1.00      1.00         1\n",
      "       72382       1.00      1.00      1.00         1\n",
      "       72949       1.00      1.00      1.00         1\n",
      "       73188       1.00      1.00      1.00         1\n",
      "       73313       1.00      1.00      1.00         1\n",
      "       73411       1.00      1.00      1.00         1\n",
      "       73620       1.00      1.00      1.00         1\n",
      "       73795       1.00      1.00      1.00         1\n",
      "       73906       1.00      1.00      1.00         1\n",
      "       74010       1.00      1.00      1.00         1\n",
      "       75170       1.00      1.00      1.00         1\n",
      "       75324       1.00      1.00      1.00         1\n",
      "       75501       1.00      1.00      1.00         1\n",
      "       75585       1.00      1.00      1.00         1\n",
      "       76182       1.00      1.00      1.00         1\n",
      "       76340       1.00      1.00      1.00         1\n",
      "       76535       1.00      1.00      1.00         1\n",
      "       76700       1.00      1.00      1.00         1\n",
      "       77082       1.00      1.00      1.00         1\n",
      "       77312       1.00      1.00      1.00         1\n",
      "       77367       1.00      1.00      1.00         1\n",
      "       77511       1.00      1.00      1.00         1\n",
      "       77735       1.00      1.00      1.00         1\n",
      "       77762       1.00      1.00      1.00         1\n",
      "       78400       1.00      1.00      1.00         1\n",
      "       78573       1.00      1.00      1.00         1\n",
      "       78728       1.00      1.00      1.00         1\n",
      "       78796       1.00      1.00      1.00         1\n",
      "       78867       1.00      1.00      1.00         1\n",
      "       78922       1.00      1.00      1.00         1\n",
      "       78963       1.00      1.00      1.00         1\n",
      "       78969       1.00      1.00      1.00         1\n",
      "       79211       1.00      1.00      1.00         1\n",
      "       79357       1.00      1.00      1.00         1\n",
      "       79373       1.00      1.00      1.00         1\n",
      "       79453       1.00      1.00      1.00         1\n",
      "       79478       1.00      1.00      1.00         1\n",
      "       79593       1.00      1.00      1.00         1\n",
      "       79616       1.00      1.00      1.00         1\n",
      "       79700       1.00      1.00      1.00         1\n",
      "       79869       1.00      1.00      1.00         1\n",
      "       80083       1.00      1.00      1.00         1\n",
      "       80239       1.00      1.00      1.00         1\n",
      "       80618       1.00      1.00      1.00         1\n",
      "       81026       1.00      1.00      1.00         1\n",
      "       81231       1.00      1.00      1.00         1\n",
      "       81378       1.00      1.00      1.00         1\n",
      "       81536       1.00      1.00      1.00         1\n",
      "       81790       1.00      1.00      1.00         1\n",
      "       81867       1.00      1.00      1.00         1\n",
      "       81939       1.00      1.00      1.00         1\n",
      "       82071       1.00      1.00      1.00         1\n",
      "       82625       1.00      1.00      1.00         1\n",
      "       82799       1.00      1.00      1.00         1\n",
      "       83061       1.00      1.00      1.00         1\n",
      "       83094       1.00      1.00      1.00         1\n",
      "       83229       1.00      1.00      1.00         1\n",
      "       83357       1.00      1.00      1.00         1\n",
      "       83459       1.00      1.00      1.00         1\n",
      "       83519       1.00      1.00      1.00         1\n",
      "       84083       1.00      1.00      1.00         1\n",
      "       84263       1.00      1.00      1.00         1\n",
      "       84429       1.00      1.00      1.00         1\n",
      "       84557       1.00      1.00      1.00         1\n",
      "       84691       1.00      1.00      1.00         1\n",
      "       84775       1.00      1.00      1.00         1\n",
      "       84835       1.00      1.00      1.00         1\n",
      "       84836       1.00      1.00      1.00         1\n",
      "       84845       1.00      1.00      1.00         1\n",
      "       84931       1.00      1.00      1.00         1\n",
      "       85016       1.00      1.00      1.00         1\n",
      "       85076       1.00      1.00      1.00         1\n",
      "       85570       1.00      1.00      1.00         1\n",
      "       85651       1.00      1.00      1.00         1\n",
      "       85972       1.00      1.00      1.00         1\n",
      "       86208       1.00      1.00      1.00         1\n",
      "       86784       1.00      1.00      1.00         1\n",
      "       86883       1.00      1.00      1.00         1\n",
      "       86958       1.00      1.00      1.00         1\n",
      "       87326       1.00      1.00      1.00         1\n",
      "       87348       1.00      1.00      1.00         1\n",
      "       87685       1.00      1.00      1.00         1\n",
      "       87778       1.00      1.00      1.00         1\n",
      "       87935       1.00      1.00      1.00         1\n",
      "       88613       1.00      1.00      1.00         1\n",
      "       88720       1.00      1.00      1.00         1\n",
      "       88918       1.00      1.00      1.00         1\n",
      "       89094       1.00      1.00      1.00         1\n",
      "       89250       1.00      1.00      1.00         1\n",
      "       89277       1.00      1.00      1.00         1\n",
      "       89302       1.00      1.00      1.00         1\n",
      "       90065       1.00      1.00      1.00         1\n",
      "       90444       1.00      1.00      1.00         1\n",
      "       90945       1.00      1.00      1.00         1\n",
      "       91220       1.00      1.00      1.00         1\n",
      "       91304       1.00      1.00      1.00         1\n",
      "       91462       1.00      1.00      1.00         1\n",
      "       91488       1.00      1.00      1.00         1\n",
      "       91547       1.00      1.00      1.00         1\n",
      "       91870       1.00      1.00      1.00         1\n",
      "       92007       1.00      1.00      1.00         1\n",
      "       92040       1.00      1.00      1.00         1\n",
      "       92070       1.00      1.00      1.00         1\n",
      "       92426       1.00      1.00      1.00         1\n",
      "       92997       1.00      1.00      1.00         1\n",
      "       93090       1.00      1.00      1.00         1\n",
      "       93307       1.00      1.00      1.00         1\n",
      "       93339       1.00      1.00      1.00         1\n",
      "       93364       1.00      1.00      1.00         1\n",
      "       93458       1.00      1.00      1.00         1\n",
      "       94013       1.00      1.00      1.00         1\n",
      "       94033       1.00      1.00      1.00         1\n",
      "       94247       1.00      1.00      1.00         1\n",
      "       94287       1.00      1.00      1.00         1\n",
      "       94413       1.00      1.00      1.00         1\n",
      "       94418       1.00      1.00      1.00         1\n",
      "       94528       1.00      1.00      1.00         1\n",
      "       94583       1.00      1.00      1.00         1\n",
      "       95088       1.00      1.00      1.00         1\n",
      "       95145       1.00      1.00      1.00         1\n",
      "       95185       1.00      1.00      1.00         1\n",
      "       96032       1.00      1.00      1.00         1\n",
      "       96355       1.00      1.00      1.00         1\n",
      "       96485       1.00      1.00      1.00         1\n",
      "       96519       1.00      1.00      1.00         1\n",
      "       96652       1.00      1.00      1.00         1\n",
      "       97111       1.00      1.00      1.00         1\n",
      "       97318       1.00      1.00      1.00         1\n",
      "       97341       1.00      1.00      1.00         1\n",
      "       97453       1.00      1.00      1.00         1\n",
      "       97493       1.00      1.00      1.00         1\n",
      "       97703       1.00      1.00      1.00         1\n",
      "       97980       1.00      1.00      1.00         1\n",
      "       97984       1.00      1.00      1.00         1\n",
      "       98240       1.00      1.00      1.00         1\n",
      "       98334       1.00      1.00      1.00         1\n",
      "       98416       1.00      1.00      1.00         1\n",
      "       98433       1.00      1.00      1.00         1\n",
      "       98588       1.00      1.00      1.00         1\n",
      "       98720       1.00      1.00      1.00         1\n",
      "       98970       1.00      1.00      1.00         1\n",
      "       99128       1.00      1.00      1.00         1\n",
      "       99239       1.00      1.00      1.00         1\n",
      "       99619       1.00      1.00      1.00         1\n",
      "\n",
      "    accuracy                           1.00       480\n",
      "   macro avg       1.00      1.00      1.00       480\n",
      "weighted avg       1.00      1.00      1.00       480\n",
      "\n"
     ]
    }
   ],
   "source": [
    "print(classification_report(y_train,y_pred_train))"
   ]
  },
  {
   "cell_type": "code",
   "execution_count": 24,
   "id": "7b20a7c0",
   "metadata": {
    "ExecuteTime": {
     "end_time": "2022-10-07T17:58:29.566699Z",
     "start_time": "2022-10-07T17:58:29.536701Z"
    }
   },
   "outputs": [
    {
     "data": {
      "text/plain": [
       "array([[1, 0, 0, ..., 0, 0, 0],\n",
       "       [0, 1, 0, ..., 0, 0, 0],\n",
       "       [0, 0, 1, ..., 0, 0, 0],\n",
       "       ...,\n",
       "       [0, 0, 0, ..., 1, 0, 0],\n",
       "       [0, 0, 0, ..., 0, 1, 0],\n",
       "       [0, 0, 0, ..., 0, 0, 1]], dtype=int64)"
      ]
     },
     "execution_count": 24,
     "metadata": {},
     "output_type": "execute_result"
    }
   ],
   "source": [
    "confusion_matrix(y_train,y_pred_train)"
   ]
  },
  {
   "cell_type": "code",
   "execution_count": null,
   "id": "6f267369",
   "metadata": {},
   "outputs": [],
   "source": []
  }
 ],
 "metadata": {
  "kernelspec": {
   "display_name": "Python 3 (ipykernel)",
   "language": "python",
   "name": "python3"
  },
  "language_info": {
   "codemirror_mode": {
    "name": "ipython",
    "version": 3
   },
   "file_extension": ".py",
   "mimetype": "text/x-python",
   "name": "python",
   "nbconvert_exporter": "python",
   "pygments_lexer": "ipython3",
   "version": "3.9.7"
  }
 },
 "nbformat": 4,
 "nbformat_minor": 5
}
